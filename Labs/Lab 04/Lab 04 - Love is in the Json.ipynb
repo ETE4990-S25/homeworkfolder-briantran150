{
 "cells": [
  {
   "cell_type": "markdown",
   "metadata": {},
   "source": [
    "# Valentine's Day Lab Assignment\n",
    "Picking a Romantic Movie\n",
    "\n",
    "## Instructions:\n",
    "1. Download a dataset of romantic movies from a public dataset repository (e.g., Kaggle).\n",
    "   - Example dataset: \"Romantic Movies Dataset\" (ensure it's in JSON format).\n",
    "2. Load the dataset from the JSON file.\n",
    "3. Create a function that helps pick a romantic movie based on user preferences.\n",
    "4. Display the selected movie details.\n",
    "5. Verify the JSON file content\n",
    "\n"
   ]
  },
  {
   "cell_type": "code",
   "execution_count": null,
   "metadata": {},
   "outputs": [],
   "source": [
    "# Sample Code:\n",
    "min_rating = float(input(\"Enter the minimum rating (0-10): \"))\n",
    "max_year = int(input(\"Enter the latest release year: \"))\n",
    "\n",
    "selected_movie = pick_movie(data, min_rating, max_year)\n",
    "\n",
    "if isinstance(selected_movie, str):\n",
    "    print(selected_movie)\n",
    "else:\n",
    "    print(f\"Selected Movie: {selected_movie['Title']}\")\n",
    "    print(f\"Year: {selected_movie['Year']}\")\n",
    "    print(f\"Rating: {selected_movie['Rating']}\")\n",
    "    print(f\"Box Office: ${selected_movie['BoxOffice']} million\")"
   ]
  },
  {
   "cell_type": "code",
   "execution_count": null,
   "metadata": {},
   "outputs": [],
   "source": [
    "import json\n",
    "\n",
    "def load_data(json_path):\n",
    "    with open(json_path, 'r') as file:\n",
    "        return json.load(file)\n",
    "\n",
    "def pick_movie(data, min_rating, max_year)\n",
    "    filtered_movies = [\n",
    "        movie for movie in data\n",
    "        if movie.get('rating') is not None\n",
    "        and movie.get('year') is not None\n",
    "        and movie['rating'] >= min_rating\n",
    "        and movie['year'] <= max_year\n",
    "        and 'Romance' in movie['genre']\n",
    "    ]\n",
    "\n",
    "    if not filtered_movies:\n",
    "        return \"No movies found.\"\n",
    "    \n",
    "    return filtered_movies[0]\n",
    "data = load_data(\"/mnt/data/romance.json\")\n",
    "\n",
    "min_rating = float(input(\"Enter the minium rating (0-10):\"))\n",
    "max_year = int(input(\"Enter the latest release year: \"))\n",
    "\n",
    "selected_movie = pick_movie(data, min_rating, max_year)\n",
    "\n",
    "if isinstance(selected_movie, str):\n",
    "    print(selected_movie)\n",
    "\n",
    "else:\n",
    "    print(f\"Selected Movie: {selected_mmovie['movie_name']}\")\n",
    "    print(f\"Year: {selected_movie['year']}\")\n",
    "    print(f\"Rating: {selected_movie['rating']}\")\n",
    "    print(f\"Description: {selected_movie['description']}\")\n",
    "    print(f\"Director: {selected_movie['director']}\")\n",
    "    print(f\"Votes: {selected_movie['votes']}\")\n",
    "    print(f\"Box Office: ${selected_movie['gross(in $)']} million\")\n",
    "    \n",
    "\n",
    "\n",
    "\n"
   ]
  }
 ],
 "metadata": {
  "language_info": {
   "name": "python"
  }
 },
 "nbformat": 4,
 "nbformat_minor": 2
}
