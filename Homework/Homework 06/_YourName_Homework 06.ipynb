{
 "cells": [
  {
   "cell_type": "markdown",
   "metadata": {},
   "source": [
    "Brian Tran"
   ]
  },
  {
   "cell_type": "markdown",
   "metadata": {},
   "source": [
    "## Objective:\n",
    "The objective of this assignment is to practice using Functional Programing.\n",
    "\n",
    "## Instructions:\n",
    "\n",
    "Using everything we learned to day about Functional Programing, lambda and itters create one of each of the following:\n",
    "-  Basic Lambda Function\n",
    "    - Create a lambda function that takes one arguments and returns even or odd.\n",
    "- Advanced lambda Function\n",
    "    - Create a lambda function that takes a list and returns their sum \n",
    "- Sorting with Lambda\n",
    "- Filtering with Lambda - `filter()` \n",
    "- Mapping with Lambda - `map()`\n",
    "- Reducing with Lambda -  `reduce()` \n",
    "- Enumerate with or without Lambda - `enumerate()`\n",
    "- zip with or without lambda (may combine enumerate like in class) - `zip()`\n",
    "\n",
    "Submit the file as a .py \n",
    "\n",
    "\n"
   ]
  },
  {
   "cell_type": "code",
   "execution_count": null,
   "metadata": {},
   "outputs": [],
   "source": [
    "from functools import reduce\n",
    "\n",
    "even_or_odd = lambda x: 'Even' if x % 2 == 0 else 'Odd'\n",
    "\n",
    "sum_list = lambda lst: sum(lst)\n",
    "\n",
    "sort_by_length = lambda words: sorted(words, key=lambda word: len(word)) \n",
    "\n",
    "even_numbers = lambda lst: list(filter(lambda x: x % 2 == 0, lst))\n",
    "\n",
    "square_numbers = lambda lst: list(map(lambda x: x ** 2, lst))\n",
    "\n",
    "product_of_numbers = lambda lst: reduce(lambda x, y: x * y, lst)\n",
    "\n",
    "enumerate_items = lambda lst: list(enumerate(lst))\n",
    "\n",
    "zip_lists = lambda lst1, lst2: list(zip(lst1, lst2))\n",
    "\n",
    "if __name__ == \"__main__\":\n",
    "    print(even_or_odd(5))\n",
    "    print(sum_list([1, 2, 3, 4]))\n",
    "    print(sort_by_length([\"apple\", \"banana\", \"peach\", \"watermelon\"]))\n",
    "    print(even_numbers([1, 2, 3, 4, 5, 6]))\n",
    "    print(square_numbers([1, 2, 3, 4]))\n",
    "    print(product_of_numbers([1, 2, 3, 4]))\n",
    "    print(enumerate_items([\"a\", \"b\", \"c\"]))\n",
    "    print(zip_lists([1, 2, 3], [\"one\", \"two\", \"three\"]))\n"
   ]
  },
  {
   "cell_type": "markdown",
   "metadata": {},
   "source": []
  }
 ],
 "metadata": {
  "kernelspec": {
   "display_name": "Python 3",
   "language": "python",
   "name": "python3"
  },
  "language_info": {
   "codemirror_mode": {
    "name": "ipython",
    "version": 3
   },
   "file_extension": ".py",
   "mimetype": "text/x-python",
   "name": "python",
   "nbconvert_exporter": "python",
   "pygments_lexer": "ipython3",
   "version": "3.13.2"
  }
 },
 "nbformat": 4,
 "nbformat_minor": 2
}
